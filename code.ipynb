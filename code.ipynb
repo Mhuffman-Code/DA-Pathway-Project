{
 "cells": [
  {
   "cell_type": "markdown",
   "id": "7b36195b",
   "metadata": {},
   "source": [
    "# Brief Analysis of the Millennial Experience "
   ]
  },
  {
   "cell_type": "code",
   "execution_count": null,
   "id": "a409ae42",
   "metadata": {},
   "outputs": [],
   "source": [
    "# getting the needed libraries \n",
    "import pandas as pd\n",
    "import os \n",
    "import csv\n",
    "import numpy as np\n",
    "import matplotlib.pyplot as plt\n",
    "import seaborn as sns"
   ]
  },
  {
   "cell_type": "markdown",
   "id": "d664c301",
   "metadata": {},
   "source": [
    "## Population \n",
    "\n",
    "How many people make up the Millennial Generation (1981-1996)? Let's look at some Census data for the answer.\n",
    "This dataset goes up to 2023 so we'll count up the individuals from ages 27 to 42. "
   ]
  },
  {
   "cell_type": "code",
   "execution_count": 31,
   "id": "3463ecbd",
   "metadata": {},
   "outputs": [
    {
     "name": "stdout",
     "output_type": "stream",
     "text": [
      "    AGE  ~Population 2020  ~Population 2021  ~Population 2022  \\\n",
      "27   27           4552156           4484117           4415055   \n",
      "28   28           4658360           4557253           4507907   \n",
      "29   29           4729513           4662407           4580635   \n",
      "30   30           4745535           4732872           4684114   \n",
      "31   31           4612941           4747555           4752768   \n",
      "32   32           4533991           4614600           4765119   \n",
      "33   33           4485388           4534312           4630396   \n",
      "34   34           4497154           4484944           4547725   \n",
      "35   35           4495335           4495424           4495746   \n",
      "36   36           4402903           4492542           4504254   \n",
      "37   37           4469938           4399455           4499384   \n",
      "38   38           4464033           4465322           4404545   \n",
      "39   39           4400611           4458168           4468376   \n",
      "40   40           4381528           4393776           4458551   \n",
      "41   41           4203064           4373540           4392104   \n",
      "42   42           4108698           4194477           4370601   \n",
      "\n",
      "    ~Population 2023  \n",
      "27           4368541  \n",
      "28           4443648  \n",
      "29           4535992  \n",
      "30           4606983  \n",
      "31           4708628  \n",
      "32           4775545  \n",
      "33           4785137  \n",
      "34           4647863  \n",
      "35           4562605  \n",
      "36           4508995  \n",
      "37           4515300  \n",
      "38           4508193  \n",
      "39           4411551  \n",
      "40           4472605  \n",
      "41           4460551  \n",
      "42           4392613  \n"
     ]
    }
   ],
   "source": [
    "#Read and clean Census dataset\n",
    "\n",
    "df_pop = pd.read_csv('data_files/01-Annual Estimates of the Resident Population by Age and Sex 2020-2023.csv')\n",
    "df_pop = df_pop.rename(columns={'POPESTIMATE2020':'~Population 2020', 'POPESTIMATE2021':'~Population 2021', 'POPESTIMATE2022':'~Population 2022', 'POPESTIMATE2023':'~Population 2023'})\n",
    "df_pop = df_pop.drop(columns=['ESTIMATESBASE2020','SEX'])\n",
    "\n",
    "#Find Total Population of Millenials age 27 thru 42\n",
    "\n",
    "all_mill = df_pop.iloc[27:43]\n",
    "print(all_mill)"
   ]
  },
  {
   "cell_type": "code",
   "execution_count": 32,
   "id": "8062025d",
   "metadata": {},
   "outputs": [
    {
     "name": "stdout",
     "output_type": "stream",
     "text": [
      "There are 72,704,750 millenials in the US\n"
     ]
    }
   ],
   "source": [
    "#Total number of millienials as of 2023\n",
    "\n",
    "all_mill_2023 = all_mill['~Population 2023'].sum()\n",
    "print(f\"There are {all_mill_2023:,d} millenials in the US\")"
   ]
  },
  {
   "cell_type": "markdown",
   "id": "22db30b7",
   "metadata": {},
   "source": [
    "So we see there are approximately 72.7 million people in the US born in that generation. That's about 21% of the country. "
   ]
  },
  {
   "cell_type": "markdown",
   "id": "d5508ba9",
   "metadata": {},
   "source": [
    "## Finance \n",
    "\n",
    "### In this section we'll look into the financial reality during the Millennial years. "
   ]
  },
  {
   "cell_type": "markdown",
   "id": "df72ed50",
   "metadata": {},
   "source": [
    "\n",
    "\n",
    "### Debt \n",
    "\n",
    "The Federal Reserve Bank of New York tracks the total debt balance of Americans over time.\n",
    "We can break this data down be age groups and focus on the years 1999 to 2024."
   ]
  },
  {
   "cell_type": "code",
   "execution_count": 33,
   "id": "e6477f1a",
   "metadata": {},
   "outputs": [
    {
     "data": {
      "text/html": [
       "<div>\n",
       "<style scoped>\n",
       "    .dataframe tbody tr th:only-of-type {\n",
       "        vertical-align: middle;\n",
       "    }\n",
       "\n",
       "    .dataframe tbody tr th {\n",
       "        vertical-align: top;\n",
       "    }\n",
       "\n",
       "    .dataframe thead th {\n",
       "        text-align: right;\n",
       "    }\n",
       "</style>\n",
       "<table border=\"1\" class=\"dataframe\">\n",
       "  <thead>\n",
       "    <tr style=\"text-align: right;\">\n",
       "      <th></th>\n",
       "      <th>Year</th>\n",
       "      <th>18-29</th>\n",
       "      <th>30-39</th>\n",
       "      <th>40-49</th>\n",
       "      <th>50-59</th>\n",
       "      <th>60-69</th>\n",
       "      <th>70+</th>\n",
       "    </tr>\n",
       "  </thead>\n",
       "  <tbody>\n",
       "    <tr>\n",
       "      <th>0</th>\n",
       "      <td>99:Q1</td>\n",
       "      <td>0.3519</td>\n",
       "      <td>1.221</td>\n",
       "      <td>1.461</td>\n",
       "      <td>0.9779</td>\n",
       "      <td>0.3755</td>\n",
       "      <td>0.1784</td>\n",
       "    </tr>\n",
       "    <tr>\n",
       "      <th>1</th>\n",
       "      <td>99:Q2</td>\n",
       "      <td>0.3735</td>\n",
       "      <td>1.264</td>\n",
       "      <td>1.494</td>\n",
       "      <td>1.0040</td>\n",
       "      <td>0.3798</td>\n",
       "      <td>0.1809</td>\n",
       "    </tr>\n",
       "    <tr>\n",
       "      <th>2</th>\n",
       "      <td>99:Q3</td>\n",
       "      <td>0.4151</td>\n",
       "      <td>1.330</td>\n",
       "      <td>1.540</td>\n",
       "      <td>1.0240</td>\n",
       "      <td>0.3815</td>\n",
       "      <td>0.1778</td>\n",
       "    </tr>\n",
       "    <tr>\n",
       "      <th>3</th>\n",
       "      <td>99:Q4</td>\n",
       "      <td>0.4309</td>\n",
       "      <td>1.333</td>\n",
       "      <td>1.525</td>\n",
       "      <td>1.0000</td>\n",
       "      <td>0.3740</td>\n",
       "      <td>0.1763</td>\n",
       "    </tr>\n",
       "    <tr>\n",
       "      <th>4</th>\n",
       "      <td>00:Q1</td>\n",
       "      <td>0.3879</td>\n",
       "      <td>1.349</td>\n",
       "      <td>1.639</td>\n",
       "      <td>1.1290</td>\n",
       "      <td>0.4269</td>\n",
       "      <td>0.2119</td>\n",
       "    </tr>\n",
       "  </tbody>\n",
       "</table>\n",
       "</div>"
      ],
      "text/plain": [
       "    Year   18-29  30-39  40-49   50-59   60-69     70+\n",
       "0  99:Q1  0.3519  1.221  1.461  0.9779  0.3755  0.1784\n",
       "1  99:Q2  0.3735  1.264  1.494  1.0040  0.3798  0.1809\n",
       "2  99:Q3  0.4151  1.330  1.540  1.0240  0.3815  0.1778\n",
       "3  99:Q4  0.4309  1.333  1.525  1.0000  0.3740  0.1763\n",
       "4  00:Q1  0.3879  1.349  1.639  1.1290  0.4269  0.2119"
      ]
     },
     "execution_count": 33,
     "metadata": {},
     "output_type": "execute_result"
    }
   ],
   "source": [
    "#Read and clean Debt (in trillions) data starting in 1999 \n",
    "\n",
    "df_debt = pd.read_excel('data_files/02-Household Debt and Credit Report 2024.xlsx', sheet_name='Page 20 Data')\n",
    "df_debt.head()"
   ]
  },
  {
   "cell_type": "markdown",
   "id": "6e4e7243",
   "metadata": {},
   "source": [
    "We'll use the Fed dataset to visualize debt of that 18 to 29 year range. "
   ]
  },
  {
   "cell_type": "code",
   "execution_count": 34,
   "id": "43081478",
   "metadata": {},
   "outputs": [],
   "source": [
    "#define x and y for our plot\n",
    "y = df_debt.drop(df_debt.columns[0], axis=1)\n",
    "x = df_debt[['Year']]"
   ]
  },
  {
   "cell_type": "code",
   "execution_count": 35,
   "id": "dcc6f279",
   "metadata": {},
   "outputs": [
    {
     "data": {
      "image/png": "[encoded data removed]",
      "text/plain": [
       "<Figure size 640x480 with 1 Axes>"
      ]
     },
     "metadata": {},
     "output_type": "display_data"
    }
   ],
   "source": [
    "# plot the increase in debt over time\n",
    "\n",
    "plt.figure()\n",
    "plt.plot(x['Year'] , y['18-29'])\n",
    "plt.xlabel(\"Year\")  \n",
    "plt.ylabel(\"Debt ~$trillions~\")\n",
    "plt.title(\"Debt in the US for ages 18-29\") \n",
    "plt.xticks(np.arange(0,110, step=12)) \n",
    "plt.subplots_adjust(bottom=0.2)\n",
    "plt.show()"
   ]
  },
  {
   "cell_type": "markdown",
   "id": "d92c61d8",
   "metadata": {},
   "source": [
    "Unfortunately, we see that young people are in a lot of debt in the US "
   ]
  },
  {
   "cell_type": "markdown",
   "id": "3b16dd21",
   "metadata": {},
   "source": [
    "### Income\n",
    "\n",
    "Here we'll look at how income has changed over time. We'll use data from the US Census again and visualize the trend. "
   ]
  },
  {
   "cell_type": "code",
   "execution_count": 36,
   "id": "31d1d448",
   "metadata": {},
   "outputs": [
    {
     "data": {
      "text/html": [
       "<div>\n",
       "<style scoped>\n",
       "    .dataframe tbody tr th:only-of-type {\n",
       "        vertical-align: middle;\n",
       "    }\n",
       "\n",
       "    .dataframe tbody tr th {\n",
       "        vertical-align: top;\n",
       "    }\n",
       "\n",
       "    .dataframe thead th {\n",
       "        text-align: right;\n",
       "    }\n",
       "</style>\n",
       "<table border=\"1\" class=\"dataframe\">\n",
       "  <thead>\n",
       "    <tr style=\"text-align: right;\">\n",
       "      <th></th>\n",
       "      <th>Year</th>\n",
       "      <th>Total (thousands)</th>\n",
       "      <th>Percent distribution (Total)</th>\n",
       "      <th>Under $15,000</th>\n",
       "      <th>$15,000 \\nto\\n $24,999</th>\n",
       "      <th>$25,000 \\nto\\n $34,999</th>\n",
       "      <th>$35,000 \\nto\\n $49,999</th>\n",
       "      <th>$50,000 \\nto\\n $74,999</th>\n",
       "      <th>$75,000 \\nto\\n $99,999</th>\n",
       "      <th>$100,000 \\nto\\n $149,999</th>\n",
       "      <th>$150,000 \\nto\\n $199,999</th>\n",
       "      <th>$200,000 and over</th>\n",
       "      <th>Median income\\n(dollars)</th>\n",
       "      <th>Margin of error2 (±)</th>\n",
       "      <th>Mean Income</th>\n",
       "      <th>Margin of error2 (±).1</th>\n",
       "    </tr>\n",
       "  </thead>\n",
       "  <tbody>\n",
       "    <tr>\n",
       "      <th>0</th>\n",
       "      <td>2023</td>\n",
       "      <td>132200</td>\n",
       "      <td>100</td>\n",
       "      <td>7.4</td>\n",
       "      <td>6.7</td>\n",
       "      <td>6.9</td>\n",
       "      <td>10.3</td>\n",
       "      <td>15.7</td>\n",
       "      <td>12.1</td>\n",
       "      <td>17.0</td>\n",
       "      <td>9.5</td>\n",
       "      <td>14.4</td>\n",
       "      <td>80610</td>\n",
       "      <td>634</td>\n",
       "      <td>114500</td>\n",
       "      <td>1098</td>\n",
       "    </tr>\n",
       "    <tr>\n",
       "      <th>1</th>\n",
       "      <td>2022</td>\n",
       "      <td>131400</td>\n",
       "      <td>100</td>\n",
       "      <td>8.1</td>\n",
       "      <td>7.2</td>\n",
       "      <td>7.4</td>\n",
       "      <td>10.4</td>\n",
       "      <td>15.9</td>\n",
       "      <td>12.2</td>\n",
       "      <td>16.7</td>\n",
       "      <td>9.3</td>\n",
       "      <td>12.9</td>\n",
       "      <td>77540</td>\n",
       "      <td>1006</td>\n",
       "      <td>110600</td>\n",
       "      <td>1075</td>\n",
       "    </tr>\n",
       "    <tr>\n",
       "      <th>2</th>\n",
       "      <td>2021</td>\n",
       "      <td>131200</td>\n",
       "      <td>100</td>\n",
       "      <td>8.1</td>\n",
       "      <td>7.4</td>\n",
       "      <td>7.2</td>\n",
       "      <td>9.9</td>\n",
       "      <td>15.3</td>\n",
       "      <td>11.9</td>\n",
       "      <td>16.4</td>\n",
       "      <td>9.3</td>\n",
       "      <td>14.4</td>\n",
       "      <td>79260</td>\n",
       "      <td>678</td>\n",
       "      <td>114600</td>\n",
       "      <td>1153</td>\n",
       "    </tr>\n",
       "    <tr>\n",
       "      <th>3</th>\n",
       "      <td>2020</td>\n",
       "      <td>129200</td>\n",
       "      <td>100</td>\n",
       "      <td>7.6</td>\n",
       "      <td>7.4</td>\n",
       "      <td>6.8</td>\n",
       "      <td>10.6</td>\n",
       "      <td>15.2</td>\n",
       "      <td>12.3</td>\n",
       "      <td>16.5</td>\n",
       "      <td>9.3</td>\n",
       "      <td>14.2</td>\n",
       "      <td>79560</td>\n",
       "      <td>1030</td>\n",
       "      <td>114000</td>\n",
       "      <td>1227</td>\n",
       "    </tr>\n",
       "    <tr>\n",
       "      <th>4</th>\n",
       "      <td>2019</td>\n",
       "      <td>128500</td>\n",
       "      <td>100</td>\n",
       "      <td>7.3</td>\n",
       "      <td>7.0</td>\n",
       "      <td>6.7</td>\n",
       "      <td>10.6</td>\n",
       "      <td>15.5</td>\n",
       "      <td>11.9</td>\n",
       "      <td>17.1</td>\n",
       "      <td>9.4</td>\n",
       "      <td>14.6</td>\n",
       "      <td>81210</td>\n",
       "      <td>1069</td>\n",
       "      <td>115900</td>\n",
       "      <td>1232</td>\n",
       "    </tr>\n",
       "  </tbody>\n",
       "</table>\n",
       "</div>"
      ],
      "text/plain": [
       "   Year  Total (thousands)  Percent distribution (Total)  Under $15,000  \\\n",
       "0  2023             132200                           100            7.4   \n",
       "1  2022             131400                           100            8.1   \n",
       "2  2021             131200                           100            8.1   \n",
       "3  2020             129200                           100            7.6   \n",
       "4  2019             128500                           100            7.3   \n",
       "\n",
       "   $15,000 \\nto\\n $24,999  $25,000 \\nto\\n $34,999  $35,000 \\nto\\n $49,999  \\\n",
       "0                     6.7                     6.9                    10.3   \n",
       "1                     7.2                     7.4                    10.4   \n",
       "2                     7.4                     7.2                     9.9   \n",
       "3                     7.4                     6.8                    10.6   \n",
       "4                     7.0                     6.7                    10.6   \n",
       "\n",
       "   $50,000 \\nto\\n $74,999  $75,000 \\nto\\n $99,999  $100,000 \\nto\\n $149,999  \\\n",
       "0                    15.7                    12.1                      17.0   \n",
       "1                    15.9                    12.2                      16.7   \n",
       "2                    15.3                    11.9                      16.4   \n",
       "3                    15.2                    12.3                      16.5   \n",
       "4                    15.5                    11.9                      17.1   \n",
       "\n",
       "   $150,000 \\nto\\n $199,999  $200,000 and over  Median income\\n(dollars)  \\\n",
       "0                       9.5               14.4                     80610   \n",
       "1                       9.3               12.9                     77540   \n",
       "2                       9.3               14.4                     79260   \n",
       "3                       9.3               14.2                     79560   \n",
       "4                       9.4               14.6                     81210   \n",
       "\n",
       "   Margin of error2 (±)  Mean Income  Margin of error2 (±).1  \n",
       "0                   634       114500                    1098  \n",
       "1                  1006       110600                    1075  \n",
       "2                   678       114600                    1153  \n",
       "3                  1030       114000                    1227  \n",
       "4                  1069       115900                    1232  "
      ]
     },
     "execution_count": 36,
     "metadata": {},
     "output_type": "execute_result"
    }
   ],
   "source": [
    "df_inc = pd.read_excel('data_files/03-Household Income 2023.xlsx')\n",
    "df_inc.head()"
   ]
  },
  {
   "cell_type": "code",
   "execution_count": 37,
   "id": "2ebbfada",
   "metadata": {},
   "outputs": [],
   "source": [
    "#define x and y\n",
    "y2 = df_inc[['Mean Income']]\n",
    "x2 = df_inc[['Year']]"
   ]
  },
  {
   "cell_type": "code",
   "execution_count": 38,
   "id": "4c46cb65",
   "metadata": {},
   "outputs": [
    {
     "data": {
      "image/png": "[encoded data removed]",
      "text/plain": [
       "<Figure size 640x480 with 1 Axes>"
      ]
     },
     "metadata": {},
     "output_type": "display_data"
    }
   ],
   "source": [
    "#plot the median household income over time\n",
    "plt.figure()\n",
    "plt.plot(x2, y2)\n",
    "plt.xlabel(\"Year\")  \n",
    "plt.ylabel(\"Income\")\n",
    "plt.title(\"Average Income Growth\") \n",
    "plt.show()"
   ]
  },
  {
   "cell_type": "markdown",
   "id": "209ebbfb",
   "metadata": {},
   "source": [
    "We do see a fairly steady increase in the household income of Americans. But also see those dips mark notable financial hardships throughout\n",
    "our history. The Great Recession from 2007 to 2009 being most prominent in this graph. "
   ]
  },
  {
   "cell_type": "markdown",
   "id": "4f9bc74a",
   "metadata": {},
   "source": [
    "## Employment \n",
    "\n",
    "### Next, we'll loook at job trends. The Bureau of Labor Statistics provides information for us to examine. We'll visualize the Labor Force Participation Rate (LFPR) over time. LFPR is a percentage that looks at how much of the population has a job or is looking for a job. "
   ]
  },
  {
   "cell_type": "code",
   "execution_count": 39,
   "id": "230d2602",
   "metadata": {},
   "outputs": [
    {
     "name": "stdout",
     "output_type": "stream",
     "text": [
      "    Year  Labor Force Participation Rate\n",
      "0   1954                            58.8\n",
      "1   1955                            59.3\n",
      "2   1956                            60.0\n",
      "3   1957                            59.6\n",
      "4   1958                            59.5\n",
      "..   ...                             ...\n",
      "66  2020                            61.7\n",
      "67  2021                            61.7\n",
      "68  2022                            62.2\n",
      "69  2023                            62.6\n",
      "70  2024                            62.6\n",
      "\n",
      "[71 rows x 2 columns]\n"
     ]
    }
   ],
   "source": [
    "df_jobs = pd.read_excel('data_files/04-Employment status of the civilian noninstitutional population 1950s to 2024.xlsx')\n",
    "print(df_jobs[['Year', 'Labor Force Participation Rate']])"
   ]
  },
  {
   "cell_type": "markdown",
   "id": "a04bbcdb",
   "metadata": {},
   "source": [
    "Let's create one more chart. "
   ]
  },
  {
   "cell_type": "code",
   "execution_count": 40,
   "id": "e4f6f4bb",
   "metadata": {},
   "outputs": [],
   "source": [
    "#define x and y \n",
    "\n",
    "y3 = df_jobs[['Labor Force Participation Rate']]\n",
    "x3 = df_jobs[['Year']]"
   ]
  },
  {
   "cell_type": "code",
   "execution_count": 41,
   "id": "7ba81b05",
   "metadata": {},
   "outputs": [
    {
     "data": {
      "image/png": "[encoded data removed]",
      "text/plain": [
       "<Figure size 640x480 with 1 Axes>"
      ]
     },
     "metadata": {},
     "output_type": "display_data"
    }
   ],
   "source": [
    "#chart labor particiation rate over time\n",
    "plt.figure()\n",
    "plt.plot(x3, y3)\n",
    "plt.xlabel(\"Year\")  \n",
    "plt.ylabel(\"LFPR %\")\n",
    "plt.title(\"Rate of Labor Force Participation Over Time\") \n",
    "plt.show()"
   ]
  },
  {
   "cell_type": "markdown",
   "id": "b80a6eb4",
   "metadata": {},
   "source": [
    "We see that labor participation consistently stays within that 60-65% range. However we can see again those drops. \n",
    "These declines happen in the years Millennials would be in their 20s and 30s. "
   ]
  },
  {
   "cell_type": "markdown",
   "id": "8673ffdd",
   "metadata": {},
   "source": [
    "## Family \n",
    "\n",
    "### Let's look at some of the social aspects of Millennial life. We'll merge two datasets from the CDC to look at rates of marriage and rates of childbirth from 2010 to 2022. "
   ]
  },
  {
   "cell_type": "code",
   "execution_count": 44,
   "id": "102d8f74",
   "metadata": {},
   "outputs": [
    {
     "data": {
      "text/html": [
       "<div>\n",
       "<style scoped>\n",
       "    .dataframe tbody tr th:only-of-type {\n",
       "        vertical-align: middle;\n",
       "    }\n",
       "\n",
       "    .dataframe tbody tr th {\n",
       "        vertical-align: top;\n",
       "    }\n",
       "\n",
       "    .dataframe thead th {\n",
       "        text-align: right;\n",
       "    }\n",
       "</style>\n",
       "<table border=\"1\" class=\"dataframe\">\n",
       "  <thead>\n",
       "    <tr style=\"text-align: right;\">\n",
       "      <th></th>\n",
       "      <th>Year</th>\n",
       "      <th>Marriages</th>\n",
       "      <th>Population</th>\n",
       "      <th>Rate per 1,000 total population</th>\n",
       "    </tr>\n",
       "  </thead>\n",
       "  <tbody>\n",
       "    <tr>\n",
       "      <th>0</th>\n",
       "      <td>2022</td>\n",
       "      <td>2065905</td>\n",
       "      <td>333287557</td>\n",
       "      <td>6.2</td>\n",
       "    </tr>\n",
       "    <tr>\n",
       "      <th>1</th>\n",
       "      <td>2021</td>\n",
       "      <td>1985072</td>\n",
       "      <td>331893745</td>\n",
       "      <td>6.0</td>\n",
       "    </tr>\n",
       "    <tr>\n",
       "      <th>2</th>\n",
       "      <td>2020</td>\n",
       "      <td>1676911</td>\n",
       "      <td>329484123</td>\n",
       "      <td>5.1</td>\n",
       "    </tr>\n",
       "    <tr>\n",
       "      <th>3</th>\n",
       "      <td>2019</td>\n",
       "      <td>2015603</td>\n",
       "      <td>328239523</td>\n",
       "      <td>6.1</td>\n",
       "    </tr>\n",
       "    <tr>\n",
       "      <th>4</th>\n",
       "      <td>2018</td>\n",
       "      <td>2132853</td>\n",
       "      <td>327167434</td>\n",
       "      <td>6.5</td>\n",
       "    </tr>\n",
       "  </tbody>\n",
       "</table>\n",
       "</div>"
      ],
      "text/plain": [
       "   Year  Marriages  Population  Rate per 1,000 total population\n",
       "0  2022    2065905   333287557                              6.2\n",
       "1  2021    1985072   331893745                              6.0\n",
       "2  2020    1676911   329484123                              5.1\n",
       "3  2019    2015603   328239523                              6.1\n",
       "4  2018    2132853   327167434                              6.5"
      ]
     },
     "execution_count": 44,
     "metadata": {},
     "output_type": "execute_result"
    }
   ],
   "source": [
    "# Marriage data\n",
    "\n",
    "df_marr = pd.read_excel('data_files/07-Marriage Rates 2000-2023.xlsx')\n",
    "df_marr.head()"
   ]
  },
  {
   "cell_type": "code",
   "execution_count": 45,
   "id": "c415bf63",
   "metadata": {},
   "outputs": [
    {
     "data": {
      "text/html": [
       "<div>\n",
       "<style scoped>\n",
       "    .dataframe tbody tr th:only-of-type {\n",
       "        vertical-align: middle;\n",
       "    }\n",
       "\n",
       "    .dataframe tbody tr th {\n",
       "        vertical-align: top;\n",
       "    }\n",
       "\n",
       "    .dataframe thead th {\n",
       "        text-align: right;\n",
       "    }\n",
       "</style>\n",
       "<table border=\"1\" class=\"dataframe\">\n",
       "  <thead>\n",
       "    <tr style=\"text-align: right;\">\n",
       "      <th></th>\n",
       "      <th>Year</th>\n",
       "      <th>Number of Births</th>\n",
       "      <th>Total Birth Rate</th>\n",
       "      <th>Fertility Rate</th>\n",
       "      <th>Total Fertility Rate</th>\n",
       "      <th>Age 10-14</th>\n",
       "      <th>Age 15-17</th>\n",
       "      <th>Age 18-19</th>\n",
       "      <th>Age 20-24</th>\n",
       "      <th>Age 25-29</th>\n",
       "      <th>Age 30-34</th>\n",
       "      <th>Age 35-39</th>\n",
       "      <th>Age 40-44</th>\n",
       "      <th>Age 45-49</th>\n",
       "    </tr>\n",
       "  </thead>\n",
       "  <tbody>\n",
       "    <tr>\n",
       "      <th>0</th>\n",
       "      <td>2022</td>\n",
       "      <td>3667758</td>\n",
       "      <td>11.0</td>\n",
       "      <td>56.0</td>\n",
       "      <td>1,656.50</td>\n",
       "      <td>0.2</td>\n",
       "      <td>5.6</td>\n",
       "      <td>25.8</td>\n",
       "      <td>57.5</td>\n",
       "      <td>93.5</td>\n",
       "      <td>97.5</td>\n",
       "      <td>55.3</td>\n",
       "      <td>12.6</td>\n",
       "      <td>1.1</td>\n",
       "    </tr>\n",
       "    <tr>\n",
       "      <th>1</th>\n",
       "      <td>2021</td>\n",
       "      <td>3664292</td>\n",
       "      <td>11.0</td>\n",
       "      <td>56.3</td>\n",
       "      <td>1,664.00</td>\n",
       "      <td>0.2</td>\n",
       "      <td>5.6</td>\n",
       "      <td>26.6</td>\n",
       "      <td>61.5</td>\n",
       "      <td>93.0</td>\n",
       "      <td>97.6</td>\n",
       "      <td>5.7</td>\n",
       "      <td>12.0</td>\n",
       "      <td>0.9</td>\n",
       "    </tr>\n",
       "    <tr>\n",
       "      <th>2</th>\n",
       "      <td>2020</td>\n",
       "      <td>3613647</td>\n",
       "      <td>10.9</td>\n",
       "      <td>55.7</td>\n",
       "      <td>1,641.50</td>\n",
       "      <td>0.2</td>\n",
       "      <td>6.1</td>\n",
       "      <td>28.2</td>\n",
       "      <td>63.3</td>\n",
       "      <td>90.9</td>\n",
       "      <td>94.9</td>\n",
       "      <td>51.3</td>\n",
       "      <td>11.8</td>\n",
       "      <td>0.9</td>\n",
       "    </tr>\n",
       "    <tr>\n",
       "      <th>3</th>\n",
       "      <td>2019</td>\n",
       "      <td>3747540</td>\n",
       "      <td>11.4</td>\n",
       "      <td>58.3</td>\n",
       "      <td>1,706.00</td>\n",
       "      <td>0.2</td>\n",
       "      <td>6.7</td>\n",
       "      <td>31.1</td>\n",
       "      <td>66.6</td>\n",
       "      <td>93.7</td>\n",
       "      <td>98.3</td>\n",
       "      <td>52.8</td>\n",
       "      <td>12.0</td>\n",
       "      <td>0.9</td>\n",
       "    </tr>\n",
       "    <tr>\n",
       "      <th>4</th>\n",
       "      <td>2018</td>\n",
       "      <td>3791712</td>\n",
       "      <td>11.6</td>\n",
       "      <td>59.1</td>\n",
       "      <td>1,729.50</td>\n",
       "      <td>0.2</td>\n",
       "      <td>7.2</td>\n",
       "      <td>32.3</td>\n",
       "      <td>68.0</td>\n",
       "      <td>95.3</td>\n",
       "      <td>99.7</td>\n",
       "      <td>52.6</td>\n",
       "      <td>11.8</td>\n",
       "      <td>0.9</td>\n",
       "    </tr>\n",
       "  </tbody>\n",
       "</table>\n",
       "</div>"
      ],
      "text/plain": [
       "   Year  Number of Births  Total Birth Rate   Fertility Rate  \\\n",
       "0  2022           3667758               11.0            56.0   \n",
       "1  2021           3664292               11.0            56.3   \n",
       "2  2020           3613647               10.9            55.7   \n",
       "3  2019           3747540               11.4            58.3   \n",
       "4  2018           3791712               11.6            59.1   \n",
       "\n",
       "  Total Fertility Rate  Age 10-14  Age 15-17  Age 18-19  Age 20-24  Age 25-29  \\\n",
       "0             1,656.50        0.2        5.6       25.8       57.5       93.5   \n",
       "1             1,664.00        0.2        5.6       26.6       61.5       93.0   \n",
       "2             1,641.50        0.2        6.1       28.2       63.3       90.9   \n",
       "3             1,706.00        0.2        6.7       31.1       66.6       93.7   \n",
       "4             1,729.50        0.2        7.2       32.3       68.0       95.3   \n",
       "\n",
       "   Age 30-34  Age 35-39  Age 40-44  Age 45-49  \n",
       "0       97.5       55.3       12.6        1.1  \n",
       "1       97.6        5.7       12.0        0.9  \n",
       "2       94.9       51.3       11.8        0.9  \n",
       "3       98.3       52.8       12.0        0.9  \n",
       "4       99.7       52.6       11.8        0.9  "
      ]
     },
     "execution_count": 45,
     "metadata": {},
     "output_type": "execute_result"
    }
   ],
   "source": [
    "# Birth rate data\n",
    "df_birth = pd.read_csv('data_files/08-Birth Rates 2010-2022.csv')\n",
    "df_birth.head()"
   ]
  },
  {
   "cell_type": "code",
   "execution_count": 46,
   "id": "cabb690b",
   "metadata": {},
   "outputs": [
    {
     "data": {
      "text/html": [
       "<div>\n",
       "<style scoped>\n",
       "    .dataframe tbody tr th:only-of-type {\n",
       "        vertical-align: middle;\n",
       "    }\n",
       "\n",
       "    .dataframe tbody tr th {\n",
       "        vertical-align: top;\n",
       "    }\n",
       "\n",
       "    .dataframe thead th {\n",
       "        text-align: right;\n",
       "    }\n",
       "</style>\n",
       "<table border=\"1\" class=\"dataframe\">\n",
       "  <thead>\n",
       "    <tr style=\"text-align: right;\">\n",
       "      <th></th>\n",
       "      <th>Year</th>\n",
       "      <th>Marriages</th>\n",
       "      <th>Population</th>\n",
       "      <th>Rate per 1,000 total population</th>\n",
       "      <th>Number of Births</th>\n",
       "      <th>Total Birth Rate</th>\n",
       "      <th>Fertility Rate</th>\n",
       "      <th>Total Fertility Rate</th>\n",
       "      <th>Age 10-14</th>\n",
       "      <th>Age 15-17</th>\n",
       "      <th>Age 18-19</th>\n",
       "      <th>Age 20-24</th>\n",
       "      <th>Age 25-29</th>\n",
       "      <th>Age 30-34</th>\n",
       "      <th>Age 35-39</th>\n",
       "      <th>Age 40-44</th>\n",
       "      <th>Age 45-49</th>\n",
       "    </tr>\n",
       "  </thead>\n",
       "  <tbody>\n",
       "    <tr>\n",
       "      <th>0</th>\n",
       "      <td>2022</td>\n",
       "      <td>2065905</td>\n",
       "      <td>333287557</td>\n",
       "      <td>6.2</td>\n",
       "      <td>3667758</td>\n",
       "      <td>11.0</td>\n",
       "      <td>56.0</td>\n",
       "      <td>1,656.50</td>\n",
       "      <td>0.2</td>\n",
       "      <td>5.6</td>\n",
       "      <td>25.8</td>\n",
       "      <td>57.5</td>\n",
       "      <td>93.5</td>\n",
       "      <td>97.5</td>\n",
       "      <td>55.3</td>\n",
       "      <td>12.6</td>\n",
       "      <td>1.1</td>\n",
       "    </tr>\n",
       "    <tr>\n",
       "      <th>1</th>\n",
       "      <td>2021</td>\n",
       "      <td>1985072</td>\n",
       "      <td>331893745</td>\n",
       "      <td>6.0</td>\n",
       "      <td>3664292</td>\n",
       "      <td>11.0</td>\n",
       "      <td>56.3</td>\n",
       "      <td>1,664.00</td>\n",
       "      <td>0.2</td>\n",
       "      <td>5.6</td>\n",
       "      <td>26.6</td>\n",
       "      <td>61.5</td>\n",
       "      <td>93.0</td>\n",
       "      <td>97.6</td>\n",
       "      <td>5.7</td>\n",
       "      <td>12.0</td>\n",
       "      <td>0.9</td>\n",
       "    </tr>\n",
       "    <tr>\n",
       "      <th>2</th>\n",
       "      <td>2020</td>\n",
       "      <td>1676911</td>\n",
       "      <td>329484123</td>\n",
       "      <td>5.1</td>\n",
       "      <td>3613647</td>\n",
       "      <td>10.9</td>\n",
       "      <td>55.7</td>\n",
       "      <td>1,641.50</td>\n",
       "      <td>0.2</td>\n",
       "      <td>6.1</td>\n",
       "      <td>28.2</td>\n",
       "      <td>63.3</td>\n",
       "      <td>90.9</td>\n",
       "      <td>94.9</td>\n",
       "      <td>51.3</td>\n",
       "      <td>11.8</td>\n",
       "      <td>0.9</td>\n",
       "    </tr>\n",
       "    <tr>\n",
       "      <th>3</th>\n",
       "      <td>2019</td>\n",
       "      <td>2015603</td>\n",
       "      <td>328239523</td>\n",
       "      <td>6.1</td>\n",
       "      <td>3747540</td>\n",
       "      <td>11.4</td>\n",
       "      <td>58.3</td>\n",
       "      <td>1,706.00</td>\n",
       "      <td>0.2</td>\n",
       "      <td>6.7</td>\n",
       "      <td>31.1</td>\n",
       "      <td>66.6</td>\n",
       "      <td>93.7</td>\n",
       "      <td>98.3</td>\n",
       "      <td>52.8</td>\n",
       "      <td>12.0</td>\n",
       "      <td>0.9</td>\n",
       "    </tr>\n",
       "    <tr>\n",
       "      <th>4</th>\n",
       "      <td>2018</td>\n",
       "      <td>2132853</td>\n",
       "      <td>327167434</td>\n",
       "      <td>6.5</td>\n",
       "      <td>3791712</td>\n",
       "      <td>11.6</td>\n",
       "      <td>59.1</td>\n",
       "      <td>1,729.50</td>\n",
       "      <td>0.2</td>\n",
       "      <td>7.2</td>\n",
       "      <td>32.3</td>\n",
       "      <td>68.0</td>\n",
       "      <td>95.3</td>\n",
       "      <td>99.7</td>\n",
       "      <td>52.6</td>\n",
       "      <td>11.8</td>\n",
       "      <td>0.9</td>\n",
       "    </tr>\n",
       "  </tbody>\n",
       "</table>\n",
       "</div>"
      ],
      "text/plain": [
       "   Year  Marriages  Population  Rate per 1,000 total population  \\\n",
       "0  2022    2065905   333287557                              6.2   \n",
       "1  2021    1985072   331893745                              6.0   \n",
       "2  2020    1676911   329484123                              5.1   \n",
       "3  2019    2015603   328239523                              6.1   \n",
       "4  2018    2132853   327167434                              6.5   \n",
       "\n",
       "   Number of Births  Total Birth Rate   Fertility Rate Total Fertility Rate  \\\n",
       "0           3667758               11.0            56.0             1,656.50   \n",
       "1           3664292               11.0            56.3             1,664.00   \n",
       "2           3613647               10.9            55.7             1,641.50   \n",
       "3           3747540               11.4            58.3             1,706.00   \n",
       "4           3791712               11.6            59.1             1,729.50   \n",
       "\n",
       "   Age 10-14  Age 15-17  Age 18-19  Age 20-24  Age 25-29  Age 30-34  \\\n",
       "0        0.2        5.6       25.8       57.5       93.5       97.5   \n",
       "1        0.2        5.6       26.6       61.5       93.0       97.6   \n",
       "2        0.2        6.1       28.2       63.3       90.9       94.9   \n",
       "3        0.2        6.7       31.1       66.6       93.7       98.3   \n",
       "4        0.2        7.2       32.3       68.0       95.3       99.7   \n",
       "\n",
       "   Age 35-39  Age 40-44  Age 45-49  \n",
       "0       55.3       12.6        1.1  \n",
       "1        5.7       12.0        0.9  \n",
       "2       51.3       11.8        0.9  \n",
       "3       52.8       12.0        0.9  \n",
       "4       52.6       11.8        0.9  "
      ]
     },
     "execution_count": 46,
     "metadata": {},
     "output_type": "execute_result"
    }
   ],
   "source": [
    "#merge marriage and birth rate tables\n",
    "\n",
    "marriage_and_birth_rate = pd.merge(df_marr, df_birth, on='Year', how='inner')\n",
    "marriage_and_birth_rate.head()\n"
   ]
  },
  {
   "cell_type": "code",
   "execution_count": 47,
   "id": "36069bfb",
   "metadata": {},
   "outputs": [
    {
     "name": "stdout",
     "output_type": "stream",
     "text": [
      "<class 'pandas.core.frame.DataFrame'>\n",
      "RangeIndex: 11 entries, 0 to 10\n",
      "Data columns (total 17 columns):\n",
      " #   Column                           Non-Null Count  Dtype  \n",
      "---  ------                           --------------  -----  \n",
      " 0   Year                             11 non-null     int64  \n",
      " 1   Marriages                        11 non-null     int64  \n",
      " 2   Population                       11 non-null     int64  \n",
      " 3   Rate per 1,000 total population  11 non-null     float64\n",
      " 4   Number of Births                 11 non-null     int64  \n",
      " 5   Total Birth Rate                 11 non-null     float64\n",
      " 6   Fertility Rate                   11 non-null     float64\n",
      " 7   Total Fertility Rate             11 non-null     object \n",
      " 8   Age 10-14                        11 non-null     float64\n",
      " 9   Age 15-17                        11 non-null     float64\n",
      " 10  Age 18-19                        11 non-null     float64\n",
      " 11  Age 20-24                        11 non-null     float64\n",
      " 12  Age 25-29                        11 non-null     float64\n",
      " 13  Age 30-34                        11 non-null     float64\n",
      " 14  Age 35-39                        11 non-null     float64\n",
      " 15  Age 40-44                        11 non-null     float64\n",
      " 16  Age 45-49                        11 non-null     float64\n",
      "dtypes: float64(12), int64(4), object(1)\n",
      "memory usage: 1.6+ KB\n"
     ]
    }
   ],
   "source": [
    "# Make sure columns are numer for calculation\n",
    "\n",
    "marriage_and_birth_rate['Number of Births'] = pd.to_numeric(marriage_and_birth_rate['Number of Births'])\n",
    "marriage_and_birth_rate.info()"
   ]
  },
  {
   "cell_type": "code",
   "execution_count": 48,
   "id": "500ac7db",
   "metadata": {},
   "outputs": [
    {
     "name": "stdout",
     "output_type": "stream",
     "text": [
      "    Year  Marriages per Number of Births\n",
      "0   2022                        0.563261\n",
      "1   2021                        0.541734\n",
      "2   2020                        0.464049\n",
      "3   2019                        0.537847\n",
      "4   2018                        0.562504\n",
      "5   2017                        0.580079\n",
      "6   2016                        0.570573\n",
      "7   2015                        0.558397\n",
      "8   2012                        0.539106\n",
      "9   2011                        0.535716\n",
      "10  2010                        0.524080\n"
     ]
    }
   ],
   "source": [
    "# add column to dataset. Marriage total divided by birth total\n",
    "\n",
    "marriage_and_birth_rate['Marriages per Number of Births'] = marriage_and_birth_rate['Marriages']/marriage_and_birth_rate['Number of Births']\n",
    "print(marriage_and_birth_rate[['Year','Marriages per Number of Births']])"
   ]
  },
  {
   "cell_type": "markdown",
   "id": "304102e3",
   "metadata": {},
   "source": [
    "We see that there aren't a lot of marriages happening relative to the population, but we're still having babies. \n",
    "Marriages to births are about 1:2 according to our data. "
   ]
  },
  {
   "cell_type": "markdown",
   "id": "7d376525",
   "metadata": {},
   "source": [
    "## Conclusion\n",
    "\n",
    "#### This is just small look into what the Millennial Generation has dealt with over the years. To end, we'll look at the US economy as a whole over time. This data comes to us from the World Bank. Thank you for getting this far. \n",
    "\n"
   ]
  },
  {
   "cell_type": "markdown",
   "id": "0232b9d9",
   "metadata": {},
   "source": [
    "For this analysis, the GDP 'growth' for 2009 and 2020 really speak for themselves. Some the most \n",
    "challenging years in US economic history. The Millenials won't be young for much longer and will have to \n",
    "take on the task of caring for the next generation. Hopefully things go a bit smoother for Gen Z. "
   ]
  },
  {
   "cell_type": "code",
   "execution_count": 49,
   "id": "e1fce2bc",
   "metadata": {},
   "outputs": [
    {
     "name": "stdout",
     "output_type": "stream",
     "text": [
      "    Year  GDP growth (annual %)\n",
      "0   1960               0.000000\n",
      "1   1961               2.300000\n",
      "2   1962               6.100000\n",
      "3   1963               4.400000\n",
      "4   1964               5.800000\n",
      "..   ...                    ...\n",
      "59  2019               2.583825\n",
      "60  2020              -2.163029\n",
      "61  2021               6.055053\n",
      "62  2022               2.512375\n",
      "63  2023               2.887556\n",
      "\n",
      "[64 rows x 2 columns]\n"
     ]
    }
   ],
   "source": [
    "df_gdp = pd.read_csv('data_files/10-America GDP.csv')\n",
    "print(df_gdp)"
   ]
  },
  {
   "cell_type": "code",
   "execution_count": 53,
   "id": "962e129d",
   "metadata": {},
   "outputs": [
    {
     "data": {
      "image/png": "[encoded data removed]",
      "text/plain": [
       "<Figure size 1000x600 with 1 Axes>"
      ]
     },
     "metadata": {},
     "output_type": "display_data"
    }
   ],
   "source": [
    "fig, ax = plt.subplots(figsize= (10, 6))\n",
    "ax.bar(df_gdp['Year'], df_gdp['GDP growth (annual %)'], label = 'GDP', color='red')\n",
    "ax.plot(df_gdp['Year'], df_gdp['GDP growth (annual %)'], marker ='o')\n",
    "ax.set_xlabel('')\n",
    "ax.set_ylabel('')\n",
    "ax.set_title('GDP Growth')\n",
    "plt.show()"
   ]
  }
 ],
 "metadata": {
  "kernelspec": {
   "display_name": "base",
   "language": "python",
   "name": "python3"
  },
  "language_info": {
   "codemirror_mode": {
    "name": "ipython",
    "version": 3
   },
   "file_extension": ".py",
   "mimetype": "text/x-python",
   "name": "python",
   "nbconvert_exporter": "python",
   "pygments_lexer": "ipython3",
   "version": "3.11.5"
  }
 },
 "nbformat": 4,
 "nbformat_minor": 5
}
